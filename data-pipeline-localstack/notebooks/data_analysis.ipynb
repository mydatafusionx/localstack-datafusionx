{
 "cells": [
  {
   "cell_type": "markdown",
   "metadata": {},
   "source": [
    "# Análise de Dados do Data Lake\n",
    "\n",
    "Este notebook demonstra como acessar e analisar os dados no nosso data lake."
   ]
  },
  {
   "cell_type": "code",
   "execution_count": null,
   "metadata": {},
   "outputs": [],
   "source": [
    "# Configuração do ambiente\n",
    "import boto3\n",
    "import pandas as pd\n",
    "from pyathena import connect\n",
    "import matplotlib.pyplot as plt\n",
    "%matplotlib inline"
   ]
  },
  {
   "cell_type": "code",
   "execution_count": null,
   "metadata": {},
   "outputs": [],
   "source": [
    "# Configuração do cliente Athena\n",
    "conn = connect(\n",
    "    s3_staging_dir='s3://query-results/',\n",
    "    region_name='us-east-1',\n",
    "    aws_access_key_id='test',\n",
    "    aws_secret_access_key='test',\n",
    "    endpoint_url='http://localstack:4566'\n",
    ")"
   ]
  },
  {
   "cell_type": "code",
   "execution_count": null,
   "metadata": {},
   "outputs": [],
   "source": [
    "# Consulta SQL para análise de pedidos por cliente\n",
    "query = \"\"\"\n",
    "SELECT \n",
    "    c.first_name || ' ' || c.last_name as customer_name,\n",
    "    COUNT(o.order_id) as order_count,\n",
    "    SUM(o.amount) as total_spent\n",
    "FROM data_lake.stg_orders o\n",
    "JOIN data_lake.stg_customers c ON o.customer_id = c.customer_id\n",
    "GROUP BY 1\n",
    "ORDER BY total_spent DESC\n",
    "LIMIT 10\n",
    "\"\"\"\n",
    "\n",
    "df = pd.read_sql(query, conn)\n",
    "df"
   ]
  },
  {
   "cell_type": "code",
   "execution_count": null,
   "metadata": {},
   "outputs": [],
   "source": [
    "# Visualização dos dados\n",
    "plt.figure(figsize=(12, 6))\n",
    "plt.bar(df['customer_name'], df['total_spent'])\n",
    "plt.title('Top 10 Clientes por Valor Gasto')\n",
    "plt.xlabel('Cliente')\n",
    "plt.ylabel('Valor Total Gasto')\n",
    "plt.xticks(rotation=45, ha='right')\n",
    "plt.tight_layout()\n",
    "plt.show()"
   ]
  },
  {
   "cell_type": "code",
   "execution_count": null,
   "metadata": {},
   "outputs": [],
   "source": [
    "# Análise de tendência temporal\n",
    "query = \"\"\"\n",
    "SELECT \n",
    "    DATE_TRUNC('month', order_date) as month,\n",
    "    COUNT(DISTINCT customer_id) as active_customers,\n",
    "    COUNT(order_id) as total_orders,\n",
    "    SUM(amount) as total_revenue\n",
    "FROM data_lake.stg_orders\n",
    "GROUP BY 1\n",
    "ORDER BY month\n",
    "\"\"\"\n",
    "\n",
    "df_trend = pd.read_sql(query, conn)\n",
    
